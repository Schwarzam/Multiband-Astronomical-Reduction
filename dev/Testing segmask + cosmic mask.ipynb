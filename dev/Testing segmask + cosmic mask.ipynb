{
 "cells": [
  {
   "cell_type": "code",
   "execution_count": 1,
   "id": "77ef5807",
   "metadata": {},
   "outputs": [],
   "source": [
    "import lacosmicx"
   ]
  },
  {
   "cell_type": "code",
   "execution_count": 2,
   "id": "7721c162",
   "metadata": {},
   "outputs": [
    {
     "name": "stdout",
     "output_type": "stream",
     "text": [
      "Could not import aqutil\n",
      "\n",
      "Limited graphics available on OSX (aqutil not loaded)\n",
      "\n",
      "Could not load pyraf!\n"
     ]
    }
   ],
   "source": [
    "import os\n",
    "import mar\n",
    "from astropy.io import fits\n",
    "import numpy as np\n",
    "\n",
    "from astropy.table import Table\n",
    "\n",
    "from mar.config import MarManager"
   ]
  },
  {
   "cell_type": "code",
   "execution_count": 3,
   "id": "ad0c3cb8",
   "metadata": {},
   "outputs": [],
   "source": [
    "from mar.reduction import PrepareSciImages"
   ]
  },
  {
   "cell_type": "code",
   "execution_count": 4,
   "id": "333c8507",
   "metadata": {},
   "outputs": [],
   "source": [
    "scim = PrepareSciImages(files = [\"data/images/STRIPE82-20180812-075626.fits.fz\"], outdir = \"data/images\")"
   ]
  },
  {
   "cell_type": "code",
   "execution_count": 5,
   "id": "86049d7c",
   "metadata": {},
   "outputs": [],
   "source": [
    "masterBias = \"data/masters/masterbias20180808-20180820.fits\"\n",
    "hot_mask = \"data/masters/hotmask20180808-20180820.fits\""
   ]
  },
  {
   "cell_type": "code",
   "execution_count": 6,
   "id": "d3561b3c",
   "metadata": {},
   "outputs": [],
   "source": [
    "masterFlat = \"data/masters/masterflat20180701-20180901.fits\"\n",
    "cold_mask = \"data/masters/coldmask20180701-20180901.fits\""
   ]
  },
  {
   "cell_type": "code",
   "execution_count": 7,
   "id": "a8916d1b",
   "metadata": {},
   "outputs": [
    {
     "name": "stdout",
     "output_type": "stream",
     "text": [
      "1 [<astropy.io.fits.hdu.image.PrimaryHDU object at 0x166259d00>, <astropy.io.fits.hdu.compressed.CompImageHDU object at 0x16624b0a0>]\n"
     ]
    }
   ],
   "source": [
    "scim.outputfiles = False\n",
    "scim.run_overscan(masterBias = masterBias, masterFlat = masterFlat)"
   ]
  },
  {
   "cell_type": "code",
   "execution_count": 8,
   "id": "75f6cb97",
   "metadata": {},
   "outputs": [],
   "source": [
    "file_path = \"data/images/corr_STRIPE82-20180812-075626.fits\""
   ]
  },
  {
   "cell_type": "code",
   "execution_count": 9,
   "id": "ac67a502",
   "metadata": {},
   "outputs": [],
   "source": [
    "hotmask = fits.open(hot_mask)\n",
    "coldmask = fits.open(cold_mask)"
   ]
  },
  {
   "cell_type": "code",
   "execution_count": null,
   "id": "2a5bad80",
   "metadata": {},
   "outputs": [],
   "source": []
  },
  {
   "cell_type": "code",
   "execution_count": 10,
   "id": "8c53624f",
   "metadata": {},
   "outputs": [],
   "source": [
    "## Opening image\n",
    "file_data = mar.image.marfits.fromfile(\n",
    "    file_path, \n",
    "    usemask = False\n",
    ")"
   ]
  },
  {
   "cell_type": "code",
   "execution_count": 11,
   "id": "e5667ffe",
   "metadata": {},
   "outputs": [],
   "source": [
    "def create_starmask(file_pathh):\n",
    "    sextr = mar.wrappers.SExtr(\n",
    "        file_pathh,\n",
    "        folder = \"/Users/gustavo/MAR/dev/data/sextr/\",\n",
    "        catname = os.path.basename(file_pathh) + \"_seg_.cat\",\n",
    "    )\n",
    "\n",
    "    segmentation_image = f\"data/sextr/{os.path.basename(file_pathh)}_seg_.fits\"\n",
    "    sextr.config[\"CHECKIMAGE_TYPE\"]['value'] = \"SEGMENTATION\"\n",
    "    sextr.config[\"CHECKIMAGE_NAME\"]['value'] = segmentation_image\n",
    "    sextr.params = [\n",
    "        'NUMBER',\n",
    "        'FLAGS'\n",
    "    ]\n",
    "    sextr.run()\n",
    "    \n",
    "    table = Table.read(os.path.join(\"data/sextr/\", os.path.basename(file_pathh) + \"_seg_.cat\"), hdu=2)\n",
    "    selection = (\n",
    "        (table[\"FLAGS\"] <= 2)\n",
    "    )\n",
    "\n",
    "    table = table[selection]\n",
    "    segmentation_data = fits.getdata(segmentation_image)\n",
    "    stars_mask = np.isin(segmentation_data, np.array(table[\"NUMBER\"])).astype(\"int\")\n",
    "    fits.PrimaryHDU(data=stars_mask).writeto(\"data/tests/star_mask.fits\", overwrite=True)\n",
    "    return stars_mask"
   ]
  },
  {
   "cell_type": "code",
   "execution_count": 12,
   "id": "223aa691",
   "metadata": {},
   "outputs": [],
   "source": [
    "final_mask = mar.image.MaskArray(\n",
    "        np.zeros(file_data[0].data.shape, dtype=np.uint8)\n",
    ")\n",
    "    "
   ]
  },
  {
   "cell_type": "code",
   "execution_count": 13,
   "id": "d890648e",
   "metadata": {},
   "outputs": [],
   "source": [
    "mask = hotmask[0].data + coldmask[0].data + (file_data[0].data >= int(mar.env.marConf['Instrument']['SATURATE']))\n",
    "mask = mask > 0\n",
    "mask = np.ma.masked_array(np.zeros(mask.shape), mask, fill_value=1)\n",
    "mask = mask.filled(1).astype(np.uint8)\n",
    "\n",
    "final_mask.add_mask(mask.astype(np.uint8), 1)"
   ]
  },
  {
   "cell_type": "code",
   "execution_count": 14,
   "id": "f7481597",
   "metadata": {},
   "outputs": [],
   "source": [
    "MarManager.INFO(f\"applying first mask\")\n",
    "# important to not pass mask 64 here.  \n",
    "file_data[0].data = lacosmicx.apply_mask(np.asarray(file_data[0].data, dtype=np.float32), mask)\n",
    "file_data.writeto(\"data/tests/after_fm.fits\", compress=False, overwrite=True)"
   ]
  },
  {
   "cell_type": "code",
   "execution_count": 15,
   "id": "ec10f5f9",
   "metadata": {},
   "outputs": [],
   "source": [
    "star_mask = create_starmask(\"data/tests/after_fm.fits\")\n",
    "final_mask.add_mask(\n",
    "    star_mask.astype(np.uint8), 64\n",
    ")"
   ]
  },
  {
   "cell_type": "code",
   "execution_count": 16,
   "id": "ea437e32",
   "metadata": {},
   "outputs": [],
   "source": [
    "fits.PrimaryHDU(data=\n",
    "                final_mask.get_mask([1, 2, 64], binary=True).astype(np.uint8)\n",
    "        ).writeto(\"data/tests/ignoremask.fits\", overwrite=True)"
   ]
  },
  {
   "cell_type": "code",
   "execution_count": 17,
   "id": "1b55f951",
   "metadata": {},
   "outputs": [
    {
     "name": "stderr",
     "output_type": "stream",
     "text": [
      "<ipython-input-17-6fba34c5c541>:2: DeprecationWarning: `np.bool` is a deprecated alias for the builtin `bool`. To silence this warning, use `bool` by itself. Doing this will not modify any behavior and is safe. If you specifically wanted the numpy scalar type, use `np.bool_` here.\n",
      "Deprecated in NumPy 1.20; for more details and guidance: https://numpy.org/devdocs/release/1.20.0-notes.html#deprecations\n",
      "  cosmicMask, _ = mar.reduction.lacosmicx.lacosmicx(np.asarray(file_data[0].data, dtype=np.float32), final_mask.get_mask([1, 2, 64], binary=True).astype(np.uint8))\n"
     ]
    }
   ],
   "source": [
    "MarManager.INFO(f\"getting lacosmic\")\n",
    "cosmicMask, _ = mar.reduction.lacosmicx.lacosmicx(np.asarray(file_data[0].data, dtype=np.float32), final_mask.get_mask([1, 2, 64], binary=True).astype(np.uint8))\n",
    "cosmicMask = np.ma.masked_array(np.zeros(cosmicMask.shape), cosmicMask, fill_value=1).filled(1).astype(np.uint8)\n",
    "\n",
    "final_mask.add_mask(cosmicMask.astype(np.uint8), 4)"
   ]
  },
  {
   "cell_type": "code",
   "execution_count": 18,
   "id": "d8b7f173",
   "metadata": {},
   "outputs": [],
   "source": [
    "fits.PrimaryHDU(data=_).writeto(\"data/tests/return_fromlacosmicx.fits\", overwrite=True)"
   ]
  },
  {
   "cell_type": "code",
   "execution_count": 19,
   "id": "32856bc4",
   "metadata": {},
   "outputs": [],
   "source": [
    "fits.PrimaryHDU(data=cosmicMask).writeto(\"data/tests/cosmicmask.fits\", overwrite=True)"
   ]
  },
  {
   "cell_type": "code",
   "execution_count": 20,
   "id": "4fdc6e4d",
   "metadata": {},
   "outputs": [],
   "source": []
  },
  {
   "cell_type": "code",
   "execution_count": null,
   "id": "78b570cd",
   "metadata": {},
   "outputs": [],
   "source": [
    "\n",
    "MarManager.INFO(f\"applying cosmic mask to {file_name}\")\n",
    "im[0].data = apply_mask(im[0].data, cosmicMask, final_mask.get_mask([64], binary=True).astype(np.uint8))"
   ]
  },
  {
   "cell_type": "code",
   "execution_count": 32,
   "id": "985d3209",
   "metadata": {},
   "outputs": [
    {
     "data": {
      "text/plain": [
       "MaskArray([[0., 0., 0., ..., 0., 0., 0.],\n",
       "           [0., 1., 0., ..., 0., 1., 0.],\n",
       "           [1., 1., 1., ..., 1., 1., 1.],\n",
       "           ...,\n",
       "           [0., 1., 1., ..., 1., 1., 0.],\n",
       "           [0., 0., 1., ..., 1., 0., 0.],\n",
       "           [0., 0., 1., ..., 1., 0., 0.]], dtype=float32)"
      ]
     },
     "execution_count": 32,
     "metadata": {},
     "output_type": "execute_result"
    }
   ],
   "source": [
    "final_mask.get_mask([1,2, 4, 8], binary=True, inverted=True, dtype='float32')"
   ]
  },
  {
   "cell_type": "code",
   "execution_count": 27,
   "id": "56ab6947",
   "metadata": {},
   "outputs": [
    {
     "data": {
      "text/plain": [
       "True"
      ]
     },
     "execution_count": 27,
     "metadata": {},
     "output_type": "execute_result"
    }
   ],
   "source": [
    "mar.env.marConf['config']['FILTER_SATELLITE']"
   ]
  },
  {
   "cell_type": "code",
   "execution_count": null,
   "id": "8e6e48b0",
   "metadata": {},
   "outputs": [],
   "source": []
  }
 ],
 "metadata": {
  "kernelspec": {
   "display_name": "Python 3",
   "language": "python",
   "name": "python3"
  },
  "language_info": {
   "codemirror_mode": {
    "name": "ipython",
    "version": 3
   },
   "file_extension": ".py",
   "mimetype": "text/x-python",
   "name": "python",
   "nbconvert_exporter": "python",
   "pygments_lexer": "ipython3",
   "version": "3.9.12"
  }
 },
 "nbformat": 4,
 "nbformat_minor": 5
}
