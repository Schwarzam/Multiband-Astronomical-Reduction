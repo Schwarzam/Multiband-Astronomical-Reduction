{
 "cells": [
  {
   "cell_type": "code",
   "execution_count": 80,
   "id": "41f3aafa",
   "metadata": {},
   "outputs": [],
   "source": [
    "import requests"
   ]
  },
  {
   "cell_type": "code",
   "execution_count": 81,
   "id": "d92cfdc8",
   "metadata": {},
   "outputs": [],
   "source": [
    "from mar_functions import login, getHeader"
   ]
  },
  {
   "cell_type": "code",
   "execution_count": 97,
   "id": "17c2cde1",
   "metadata": {},
   "outputs": [
    {
     "name": "stdout",
     "output_type": "stream",
     "text": [
      "Authentication successful!\n"
     ]
    }
   ],
   "source": [
    "token = login(\"t80team\", \"asdflkjh\")\n",
    "header = getHeader(token)"
   ]
  },
  {
   "cell_type": "code",
   "execution_count": 98,
   "id": "ddb0773f",
   "metadata": {},
   "outputs": [],
   "source": [
    "IP = \"http://10.180.0.140:3001/reduction\""
   ]
  },
  {
   "cell_type": "code",
   "execution_count": 102,
   "id": "3d5bc078",
   "metadata": {},
   "outputs": [],
   "source": [
    "data = {\n",
    "    \"type\": \"create\",\n",
    "    \"band\": \"Z\",\n",
    "    \"nameContains\": \"STRIPE,HYDRA,SPLUS-2\",\n",
    "    \"startDate\": \"2022-01-07\",\n",
    "    \"endDate\": \"2022-07-07\"\n",
    "}"
   ]
  },
  {
   "cell_type": "code",
   "execution_count": 103,
   "id": "4af1e7fe",
   "metadata": {},
   "outputs": [
    {
     "name": "stdout",
     "output_type": "stream",
     "text": [
      "{'msg': 'Created sci by filter block.', 'id': 151, 'status': True}\n"
     ]
    }
   ],
   "source": [
    "res = requests.post(\n",
    "    f\"{IP}/scibyfilter\", \n",
    "    json=data, \n",
    "    headers=header\n",
    ")\n",
    "\n",
    "print(res.json())"
   ]
  },
  {
   "cell_type": "code",
   "execution_count": 104,
   "id": "fdc4a827",
   "metadata": {},
   "outputs": [],
   "source": [
    "block_id = 151"
   ]
  },
  {
   "cell_type": "code",
   "execution_count": 105,
   "id": "2045049b",
   "metadata": {},
   "outputs": [],
   "source": [
    "data = {\n",
    "    \"type\": \"get\",\n",
    "    \"id\": block_id\n",
    "}\n",
    "# data = {\n",
    "#     \"type\": \"process\",\n",
    "#     \"id\": block_id,\n",
    "#     \"code\": \"ov\"\n",
    "# }\n",
    "\n",
    "\n",
    "res = requests.post(\n",
    "    f\"{IP}/scibyfilter\", \n",
    "    json=data, \n",
    "    headers=header\n",
    ")"
   ]
  },
  {
   "cell_type": "code",
   "execution_count": 100,
   "id": "ef70a4a7",
   "metadata": {},
   "outputs": [
    {
     "name": "stdout",
     "output_type": "stream",
     "text": [
      "Initial number:  849\n"
     ]
    },
    {
     "ename": "TypeError",
     "evalue": "float() argument must be a string or a number, not 'NoneType'",
     "output_type": "error",
     "traceback": [
      "\u001b[0;31m---------------------------------------------------------------------------\u001b[0m",
      "\u001b[0;31mTypeError\u001b[0m                                 Traceback (most recent call last)",
      "Input \u001b[0;32mIn [100]\u001b[0m, in \u001b[0;36m<cell line: 10>\u001b[0;34m()\u001b[0m\n\u001b[1;32m     13\u001b[0m exclude_procs_ids \u001b[38;5;241m=\u001b[39m []\n\u001b[1;32m     14\u001b[0m \u001b[38;5;28;01mfor\u001b[39;00m i \u001b[38;5;129;01min\u001b[39;00m scies:\n\u001b[0;32m---> 15\u001b[0m     \u001b[38;5;28;01mif\u001b[39;00m \u001b[38;5;28;43mfloat\u001b[39;49m\u001b[43m(\u001b[49m\u001b[43mi\u001b[49m\u001b[43m[\u001b[49m\u001b[38;5;124;43m'\u001b[39;49m\u001b[38;5;124;43mmedianavg\u001b[39;49m\u001b[38;5;124;43m'\u001b[39;49m\u001b[43m]\u001b[49m\u001b[43m)\u001b[49m \u001b[38;5;241m<\u001b[39m\u001b[38;5;241m=\u001b[39m thresh:\n\u001b[1;32m     16\u001b[0m         ids\u001b[38;5;241m.\u001b[39mappend(i[\u001b[38;5;124m'\u001b[39m\u001b[38;5;124mid\u001b[39m\u001b[38;5;124m'\u001b[39m])\n\u001b[1;32m     17\u001b[0m         count \u001b[38;5;241m+\u001b[39m\u001b[38;5;241m=\u001b[39m \u001b[38;5;241m1\u001b[39m\n",
      "\u001b[0;31mTypeError\u001b[0m: float() argument must be a string or a number, not 'NoneType'"
     ]
    }
   ],
   "source": [
    "limit_objects = 450\n",
    "starting_thresh = 1000\n",
    "step = 20\n",
    "\n",
    "thresh = starting_thresh\n",
    "scies = res.json()['msg'][0][\"scies\"]\n",
    "\n",
    "print(\"Initial number: \", len(scies))\n",
    "while True:\n",
    "    count = 0\n",
    "    ids = []\n",
    "    exclude_ids = []\n",
    "    exclude_procs_ids = []\n",
    "    for i in scies:\n",
    "        if float(i['medianavg']) <= thresh:\n",
    "            ids.append(i['id'])\n",
    "            count += 1\n",
    "        else:\n",
    "            exclude_procs_ids.append(i['processed_id'])\n",
    "            exclude_ids.append(i['id'])\n",
    "        \n",
    "    if count >= limit_objects:\n",
    "        thresh -= step\n",
    "    else:\n",
    "        break\n",
    "        \n",
    "print(\"Number remaining: \", len(ids))\n",
    "print(\"Number to exclude: \", len(exclude_ids))\n",
    "print(\"Number of processed to exclude: \", len(exclude_procs_ids))"
   ]
  },
  {
   "cell_type": "code",
   "execution_count": 71,
   "id": "9b2e1f54",
   "metadata": {},
   "outputs": [],
   "source": [
    "exclude_ids = [67950]"
   ]
  },
  {
   "cell_type": "code",
   "execution_count": 75,
   "id": "f54c4d01",
   "metadata": {},
   "outputs": [
    {
     "name": "stdout",
     "output_type": "stream",
     "text": [
      "{'status': True, 'msg': 'removed value'}\n"
     ]
    }
   ],
   "source": [
    "for i in exclude_ids:\n",
    "    data = {\n",
    "        \"type\": \"remove\",\n",
    "        \"id\": block_id,\n",
    "        \"objid\": i\n",
    "    }\n",
    "\n",
    "    resp = requests.post(\n",
    "        f\"{IP}/scibyfilter\", \n",
    "        json=data, \n",
    "        headers=header\n",
    "    )\n",
    "    print(resp.json())"
   ]
  },
  {
   "cell_type": "code",
   "execution_count": 73,
   "id": "56d6a561",
   "metadata": {},
   "outputs": [
    {
     "data": {
      "text/plain": [
       "b'<html>\\r\\n<head><title>502 Bad Gateway</title></head>\\r\\n<body>\\r\\n<center><h1>502 Bad Gateway</h1></center>\\r\\n<hr><center>nginx/1.23.3</center>\\r\\n</body>\\r\\n</html>\\r\\n'"
      ]
     },
     "execution_count": 73,
     "metadata": {},
     "output_type": "execute_result"
    }
   ],
   "source": [
    "resp.content"
   ]
  },
  {
   "cell_type": "code",
   "execution_count": 79,
   "id": "481560a8",
   "metadata": {},
   "outputs": [],
   "source": [
    "data = {\n",
    "    \"type\": \"process\",\n",
    "    \"id\": block_id,\n",
    "    \"code\": \"ov sf\"\n",
    "}\n",
    "\n",
    "resp = requests.post(\n",
    "    f\"{IP}/scibyfilter\", \n",
    "    json=data, \n",
    "    headers=header\n",
    ")"
   ]
  },
  {
   "cell_type": "code",
   "execution_count": null,
   "id": "86d5b311",
   "metadata": {},
   "outputs": [],
   "source": []
  }
 ],
 "metadata": {
  "kernelspec": {
   "display_name": "Python 3",
   "language": "python",
   "name": "python3"
  },
  "language_info": {
   "codemirror_mode": {
    "name": "ipython",
    "version": 3
   },
   "file_extension": ".py",
   "mimetype": "text/x-python",
   "name": "python",
   "nbconvert_exporter": "python",
   "pygments_lexer": "ipython3",
   "version": "3.9.12"
  }
 },
 "nbformat": 4,
 "nbformat_minor": 5
}
